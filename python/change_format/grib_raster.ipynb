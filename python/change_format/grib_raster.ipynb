{
 "cells": [
  {
   "cell_type": "code",
   "execution_count": 13,
   "id": "a41f610a-9970-4715-aa21-566b570d5f36",
   "metadata": {},
   "outputs": [],
   "source": [
    "from osgeo import gdal\n"
   ]
  },
  {
   "cell_type": "code",
   "execution_count": 9,
   "id": "66bf4e22-36fe-4960-82b3-d4e943032c97",
   "metadata": {},
   "outputs": [],
   "source": [
    "path = \"/Users/vivianhuang/Desktop/neches/evaporation_neches_20170826_1500.grib\"\n",
    "out_path = \"/Users/vivianhuang/Desktop/neches/evaporation_neches_20170826_1500.tif\""
   ]
  },
  {
   "cell_type": "code",
   "execution_count": 12,
   "id": "cd042656-8466-4afb-a9ce-c78861a25b03",
   "metadata": {},
   "outputs": [
    {
     "name": "stdout",
     "output_type": "stream",
     "text": [
      "Warning: Inside GRIB2Inventory, Message # 2\n",
      "ERROR: Ran out of file reading SECT0\n",
      "<osgeo.gdal.Dataset; proxy of <Swig Object of type 'GDALDatasetShadow *' at 0x1172c2490> >\n"
     ]
    }
   ],
   "source": [
    "src_ds = gdal.Open(path)\n",
    "number_bands = src_ds.RasterCount\n",
    "print(src_ds)\n",
    "out_form= \"GTiff\"\n",
    "dst_ds = gdal.Translate(out_path, src_ds, format=out_form)\n"
   ]
  }
 ],
 "metadata": {
  "kernelspec": {
   "display_name": "Python 3 (ipykernel)",
   "language": "python",
   "name": "python3"
  },
  "language_info": {
   "codemirror_mode": {
    "name": "ipython",
    "version": 3
   },
   "file_extension": ".py",
   "mimetype": "text/x-python",
   "name": "python",
   "nbconvert_exporter": "python",
   "pygments_lexer": "ipython3",
   "version": "3.11.0"
  }
 },
 "nbformat": 4,
 "nbformat_minor": 5
}
