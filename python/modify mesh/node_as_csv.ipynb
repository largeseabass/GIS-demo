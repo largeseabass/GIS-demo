{
 "cells": [
  {
   "cell_type": "code",
   "execution_count": 31,
   "metadata": {},
   "outputs": [],
   "source": [
    "import numpy as np\n",
    "import pandas as pd"
   ]
  },
  {
   "attachments": {},
   "cell_type": "markdown",
   "metadata": {},
   "source": [
    "(1) use to convert node coordinates in fort.14 into .csv"
   ]
  },
  {
   "cell_type": "code",
   "execution_count": 41,
   "metadata": {},
   "outputs": [],
   "source": [
    "def isfloat(num):\n",
    "    try:\n",
    "        float(num)\n",
    "        return True\n",
    "    except ValueError:\n",
    "        return False"
   ]
  },
  {
   "cell_type": "code",
   "execution_count": 34,
   "metadata": {},
   "outputs": [
    {
     "name": "stdout",
     "output_type": "stream",
     "text": [
      "Modified fort.14\n",
      "\n"
     ]
    }
   ],
   "source": [
    "f = open(\"fort.14\", \"r\")\n",
    "print(f.readline())\n",
    "this_txt=f.readline()\n",
    "num_node = int(this_txt.split(\"  \")[1])\n",
    "count = 0\n",
    "\n",
    "id_number = np.array([])\n",
    "latitude = np.array([])\n",
    "longitude = np.array([])\n",
    "\n",
    "    \n",
    "while count<num_node:\n",
    "    id_number = np.append(id_number,count+1)\n",
    "    txt=f.readline()\n",
    "    txt=txt[12:]\n",
    "    x = float(txt.split(\"   \")[0])\n",
    "    temporary_y = txt.split(\"   \")[1]\n",
    "    if isfloat(temporary_y):\n",
    "        y = float(temporary_y)\n",
    "    else:\n",
    "        if isfloat(temporary_y.split(\" \")[0]):\n",
    "            y = float(temporary_y.split(\" \")[0])\n",
    "        else:\n",
    "            print(num_node)\n",
    "    longitude = np.append(longitude,x)\n",
    "    latitude = np.append(latitude,y)\n",
    "\n",
    "    count +=1\n",
    "f.close()"
   ]
  },
  {
   "cell_type": "code",
   "execution_count": 38,
   "metadata": {},
   "outputs": [],
   "source": [
    "dict = {'id': id_number, 'longitude': longitude,'latitude':latitude}\n",
    "df = pd.DataFrame(data=dict)"
   ]
  },
  {
   "cell_type": "code",
   "execution_count": 39,
   "metadata": {},
   "outputs": [],
   "source": [
    "df.to_csv('/Users/vivianhuang/Desktop/neches/all_nodes.csv')"
   ]
  },
  {
   "attachments": {},
   "cell_type": "markdown",
   "metadata": {},
   "source": [
    "(2) use to convert sampled evaporation value to fort.13 format"
   ]
  },
  {
   "cell_type": "code",
   "execution_count": 40,
   "metadata": {},
   "outputs": [],
   "source": [
    "df_evaporation = pd.read_csv('/Users/vivianhuang/Desktop/neches/sample_node.csv')"
   ]
  },
  {
   "cell_type": "code",
   "execution_count": 45,
   "metadata": {},
   "outputs": [
    {
     "name": "stdout",
     "output_type": "stream",
     "text": [
      "Index(['higher_resolution_evaporation_neches_20170826_1500', 'Unnamed: 1'], dtype='object')\n",
      "RangeIndex(start=0, stop=62075, step=1)\n",
      "0       -0.00301\n",
      "1       -0.00301\n",
      "2       -0.00299\n",
      "3       -0.00297\n",
      "4       -0.00301\n",
      "          ...   \n",
      "62070   -0.00155\n",
      "62071   -0.00155\n",
      "62072   -0.00154\n",
      "62073   -0.00155\n",
      "62074   -0.00155\n",
      "Name: higher_resolution_evaporation_neches_20170826_1500, Length: 62075, dtype: float64\n"
     ]
    }
   ],
   "source": [
    "print(df_evaporation.keys())\n",
    "print(df_evaporation.index)\n",
    "print(df_evaporation['higher_resolution_evaporation_neches_20170826_1500'])"
   ]
  },
  {
   "cell_type": "code",
   "execution_count": 50,
   "metadata": {},
   "outputs": [],
   "source": [
    "with open('/Users/vivianhuang/Desktop/neches/evaporation_fort13.txt', 'w') as f:\n",
    "    f.write('evaporation_index_each_node_meter_per_hour \\n')\n",
    "    f.write(str(num_node)+'\\n')\n",
    "    for ind in df_evaporation.index:\n",
    "        f.write(str(ind+1)+' '+str(df_evaporation['higher_resolution_evaporation_neches_20170826_1500'][ind])+'\\n')\n",
    "    f.close()"
   ]
  }
 ],
 "metadata": {
  "kernelspec": {
   "display_name": "analysis",
   "language": "python",
   "name": "python3"
  },
  "language_info": {
   "codemirror_mode": {
    "name": "ipython",
    "version": 3
   },
   "file_extension": ".py",
   "mimetype": "text/x-python",
   "name": "python",
   "nbconvert_exporter": "python",
   "pygments_lexer": "ipython3",
   "version": "3.11.0"
  },
  "orig_nbformat": 4
 },
 "nbformat": 4,
 "nbformat_minor": 2
}
